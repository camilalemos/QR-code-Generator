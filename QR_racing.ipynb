{
  "nbformat": 4,
  "nbformat_minor": 0,
  "metadata": {
    "colab": {
      "provenance": [],
      "mount_file_id": "1dYhMe02XTJqCNOziZm_W47YQGAt3Xe_0",
      "authorship_tag": "ABX9TyNCRjos+CALkZyIJW5x/Flb",
      "include_colab_link": true
    },
    "kernelspec": {
      "name": "python3",
      "display_name": "Python 3"
    },
    "language_info": {
      "name": "python"
    }
  },
  "cells": [
    {
      "cell_type": "markdown",
      "metadata": {
        "id": "view-in-github",
        "colab_type": "text"
      },
      "source": [
        "<a href=\"https://colab.research.google.com/github/camilalemos/QR-code-Generator/blob/main/QR_racing.ipynb\" target=\"_parent\"><img src=\"https://colab.research.google.com/assets/colab-badge.svg\" alt=\"Open In Colab\"/></a>"
      ]
    },
    {
      "cell_type": "code",
      "execution_count": null,
      "metadata": {
        "id": "aJRI07mh0EX_",
        "colab": {
          "base_uri": "https://localhost:8080/"
        },
        "outputId": "9122d16e-6679-43ce-b407-ab9a862acd19"
      },
      "outputs": [
        {
          "output_type": "stream",
          "name": "stdout",
          "text": [
            "Python 3.8.10\n"
          ]
        }
      ],
      "source": [
        "!python --version"
      ]
    },
    {
      "cell_type": "code",
      "source": [
        "!pip install pypng"
      ],
      "metadata": {
        "colab": {
          "base_uri": "https://localhost:8080/"
        },
        "id": "oDhgQduSHhu3",
        "outputId": "c5af0066-b54b-45b5-8289-71cc56315923"
      },
      "execution_count": null,
      "outputs": [
        {
          "output_type": "stream",
          "name": "stdout",
          "text": [
            "Looking in indexes: https://pypi.org/simple, https://us-python.pkg.dev/colab-wheels/public/simple/\n",
            "Collecting pypng\n",
            "  Downloading pypng-0.20220715.0-py3-none-any.whl (58 kB)\n",
            "\u001b[?25l     \u001b[90m━━━━━━━━━━━━━━━━━━━━━━━━━━━━━━━━━━━━━━━━\u001b[0m \u001b[32m0.0/58.1 KB\u001b[0m \u001b[31m?\u001b[0m eta \u001b[36m-:--:--\u001b[0m\r\u001b[2K     \u001b[90m━━━━━━━━━━━━━━━━━━━━━━━━━━━━━━━━━━━━━━━━\u001b[0m \u001b[32m58.1/58.1 KB\u001b[0m \u001b[31m7.3 MB/s\u001b[0m eta \u001b[36m0:00:00\u001b[0m\n",
            "\u001b[?25hInstalling collected packages: pypng\n",
            "Successfully installed pypng-0.20220715.0\n"
          ]
        }
      ]
    },
    {
      "cell_type": "code",
      "source": [
        "!pip install qrcode[PIL]"
      ],
      "metadata": {
        "colab": {
          "base_uri": "https://localhost:8080/"
        },
        "id": "kof21ZEaHqEI",
        "outputId": "6e24ddb2-7ed7-45d1-ea54-019bcee7f518"
      },
      "execution_count": null,
      "outputs": [
        {
          "output_type": "stream",
          "name": "stdout",
          "text": [
            "Looking in indexes: https://pypi.org/simple, https://us-python.pkg.dev/colab-wheels/public/simple/\n",
            "Requirement already satisfied: qrcode[PIL] in /usr/local/lib/python3.8/dist-packages (7.4.2)\n",
            "Requirement already satisfied: pypng in /usr/local/lib/python3.8/dist-packages (from qrcode[PIL]) (0.20220715.0)\n",
            "Requirement already satisfied: typing-extensions in /usr/local/lib/python3.8/dist-packages (from qrcode[PIL]) (4.4.0)\n",
            "Requirement already satisfied: pillow>=9.1.0 in /usr/local/lib/python3.8/dist-packages (from qrcode[PIL]) (9.4.0)\n"
          ]
        }
      ]
    },
    {
      "cell_type": "code",
      "source": [
        "!pip install pillow openpyxl"
      ],
      "metadata": {
        "colab": {
          "base_uri": "https://localhost:8080/"
        },
        "id": "sjY5bKTJTYYE",
        "outputId": "13087168-4a98-47c2-a1a5-d63fe7b3d9ce"
      },
      "execution_count": null,
      "outputs": [
        {
          "output_type": "stream",
          "name": "stdout",
          "text": [
            "Looking in indexes: https://pypi.org/simple, https://us-python.pkg.dev/colab-wheels/public/simple/\n",
            "Requirement already satisfied: pillow in /usr/local/lib/python3.8/dist-packages (9.4.0)\n",
            "Requirement already satisfied: openpyxl in /usr/local/lib/python3.8/dist-packages (3.0.10)\n",
            "Requirement already satisfied: et-xmlfile in /usr/local/lib/python3.8/dist-packages (from openpyxl) (1.1.0)\n"
          ]
        }
      ]
    },
    {
      "cell_type": "code",
      "source": [
        "!pip install qrcode"
      ],
      "metadata": {
        "colab": {
          "base_uri": "https://localhost:8080/"
        },
        "id": "cpJq0sP6W9o_",
        "outputId": "b82db963-2da0-4620-e9fa-5bcdffe30353"
      },
      "execution_count": null,
      "outputs": [
        {
          "output_type": "stream",
          "name": "stdout",
          "text": [
            "Looking in indexes: https://pypi.org/simple, https://us-python.pkg.dev/colab-wheels/public/simple/\n",
            "Collecting qrcode\n",
            "  Downloading qrcode-7.4.2-py3-none-any.whl (46 kB)\n",
            "\u001b[?25l     \u001b[90m━━━━━━━━━━━━━━━━━━━━━━━━━━━━━━━━━━━━━━━━\u001b[0m \u001b[32m0.0/46.2 KB\u001b[0m \u001b[31m?\u001b[0m eta \u001b[36m-:--:--\u001b[0m\r\u001b[2K     \u001b[90m━━━━━━━━━━━━━━━━━━━━━━━━━━━━━━━━━━━━━━━━\u001b[0m \u001b[32m46.2/46.2 KB\u001b[0m \u001b[31m6.7 MB/s\u001b[0m eta \u001b[36m0:00:00\u001b[0m\n",
            "\u001b[?25hRequirement already satisfied: typing-extensions in /usr/local/lib/python3.8/dist-packages (from qrcode) (4.4.0)\n",
            "Collecting pypng\n",
            "  Downloading pypng-0.20220715.0-py3-none-any.whl (58 kB)\n",
            "\u001b[2K     \u001b[90m━━━━━━━━━━━━━━━━━━━━━━━━━━━━━━━━━━━━━━━━\u001b[0m \u001b[32m58.1/58.1 KB\u001b[0m \u001b[31m8.8 MB/s\u001b[0m eta \u001b[36m0:00:00\u001b[0m\n",
            "\u001b[?25hInstalling collected packages: pypng, qrcode\n",
            "Successfully installed pypng-0.20220715.0 qrcode-7.4.2\n"
          ]
        }
      ]
    },
    {
      "cell_type": "code",
      "source": [
        "!pip install pyzbar"
      ],
      "metadata": {
        "colab": {
          "base_uri": "https://localhost:8080/"
        },
        "id": "_4ttFwR9LrPT",
        "outputId": "ba9a90e2-10e2-46c6-f603-e2dfe5f72de0"
      },
      "execution_count": null,
      "outputs": [
        {
          "output_type": "stream",
          "name": "stdout",
          "text": [
            "Looking in indexes: https://pypi.org/simple, https://us-python.pkg.dev/colab-wheels/public/simple/\n",
            "Collecting pyzbar\n",
            "  Downloading pyzbar-0.1.9-py2.py3-none-any.whl (32 kB)\n",
            "Installing collected packages: pyzbar\n",
            "Successfully installed pyzbar-0.1.9\n"
          ]
        }
      ]
    },
    {
      "cell_type": "code",
      "source": [
        "!apt install libzbar0"
      ],
      "metadata": {
        "colab": {
          "base_uri": "https://localhost:8080/"
        },
        "id": "95-ZDvLLL6Cm",
        "outputId": "7822ad82-cdf3-4fee-f589-43bf8f54c303"
      },
      "execution_count": null,
      "outputs": [
        {
          "output_type": "stream",
          "name": "stdout",
          "text": [
            "Reading package lists... Done\n",
            "Building dependency tree       \n",
            "Reading state information... Done\n",
            "The following package was automatically installed and is no longer required:\n",
            "  libnvidia-common-510\n",
            "Use 'apt autoremove' to remove it.\n",
            "The following additional packages will be installed:\n",
            "  libv4l-0 libv4lconvert0\n",
            "The following NEW packages will be installed:\n",
            "  libv4l-0 libv4lconvert0 libzbar0\n",
            "0 upgraded, 3 newly installed, 0 to remove and 21 not upgraded.\n",
            "Need to get 238 kB of archives.\n",
            "After this operation, 817 kB of additional disk space will be used.\n",
            "Get:1 http://archive.ubuntu.com/ubuntu focal/main amd64 libv4lconvert0 amd64 1.18.0-2build1 [76.5 kB]\n",
            "Get:2 http://archive.ubuntu.com/ubuntu focal/main amd64 libv4l-0 amd64 1.18.0-2build1 [41.9 kB]\n",
            "Get:3 http://archive.ubuntu.com/ubuntu focal/universe amd64 libzbar0 amd64 0.23-1.3 [119 kB]\n",
            "Fetched 238 kB in 0s (1,931 kB/s)\n",
            "Selecting previously unselected package libv4lconvert0:amd64.\n",
            "(Reading database ... 128097 files and directories currently installed.)\n",
            "Preparing to unpack .../libv4lconvert0_1.18.0-2build1_amd64.deb ...\n",
            "Unpacking libv4lconvert0:amd64 (1.18.0-2build1) ...\n",
            "Selecting previously unselected package libv4l-0:amd64.\n",
            "Preparing to unpack .../libv4l-0_1.18.0-2build1_amd64.deb ...\n",
            "Unpacking libv4l-0:amd64 (1.18.0-2build1) ...\n",
            "Selecting previously unselected package libzbar0:amd64.\n",
            "Preparing to unpack .../libzbar0_0.23-1.3_amd64.deb ...\n",
            "Unpacking libzbar0:amd64 (0.23-1.3) ...\n",
            "Setting up libv4lconvert0:amd64 (1.18.0-2build1) ...\n",
            "Setting up libv4l-0:amd64 (1.18.0-2build1) ...\n",
            "Setting up libzbar0:amd64 (0.23-1.3) ...\n",
            "Processing triggers for libc-bin (2.31-0ubuntu9.9) ...\n"
          ]
        }
      ]
    },
    {
      "cell_type": "code",
      "source": [
        "from pyzbar.pyzbar import decode\n",
        "from PIL import Image\n",
        "import qrcode\n",
        "import openpyxl\n",
        "\n",
        "## GUARDAR QR DEL EXCEL A UNA CARPETA COMO IMAGENES (VIP)\n",
        "wb = openpyxl.load_workbook('/content/drive/MyDrive/Códigos QR Racing.xlsx')\n",
        "ws = wb.active\n",
        "ws = wb['VIP']\n",
        "i=0\n",
        "for row in ws.iter_rows(min_row=2,max_row=101,min_col=1,max_col=3):\n",
        "    i= i+1\n",
        "    qr_value = row[2].value\n",
        "    qr = qrcode.QRCode(version=None,\n",
        "      error_correction=qrcode.constants.ERROR_CORRECT_L,\n",
        "      box_size=10,\n",
        "      border=4)\n",
        "    qr.add_data(qr_value)\n",
        "    qr.make(fit=True)\n",
        "    qr_image=  qr.make_image(fill_color='black',back_color='white')\n",
        "    qr_image.save(f'/content/drive/MyDrive/VIP/{i}_VIP.png')"
      ],
      "metadata": {
        "id": "xf-nv6VCK_fr"
      },
      "execution_count": null,
      "outputs": []
    },
    {
      "cell_type": "code",
      "source": [
        "from PIL import Image\n",
        "\n",
        "# CREO TARJETAS DE INVITACIÓN CON CODIGOS QR\n",
        "\n",
        "fondo = Image.open('/content/drive/MyDrive/1676418630213.jpg')\n",
        "\n",
        "for i in range(1,101):\n",
        "  imagen = Image.open(f'/content/drive/MyDrive/VIP/{i}_VIP.png')\n",
        "\n",
        "  imagen = imagen.resize((650,650))\n",
        "  posicion = (200,980)\n",
        "  fondo.paste(imagen,posicion)\n",
        "  fondo.save(f'/content/drive/MyDrive/VIP/INV_VIPS/Inv{i}_vip.jpg')"
      ],
      "metadata": {
        "id": "hfmJZ4bZJlpw"
      },
      "execution_count": null,
      "outputs": []
    },
    {
      "cell_type": "code",
      "source": [
        "from pyzbar.pyzbar import decode\n",
        "from PIL import Image\n",
        "import qrcode\n",
        "import openpyxl\n",
        "\n",
        "## GUARDAR QR DEL EXCEL A UNA CARPETA COMO IMAGENES (PREFERENCIAL)\n",
        "wb = openpyxl.load_workbook('/content/drive/MyDrive/pref_racing.xlsx')\n",
        "ws = wb.active\n",
        "i=0\n",
        "for row in ws.iter_rows(min_row=2,max_row=405,min_col=1,max_col=3):\n",
        "    i= i+1\n",
        "    qr_value = row[2].value\n",
        "    qr = qrcode.QRCode(version=None,\n",
        "      error_correction=qrcode.constants.ERROR_CORRECT_L,\n",
        "      box_size=10,\n",
        "      border=4)\n",
        "    qr.add_data(qr_value)\n",
        "    qr.make(fit=True)\n",
        "    qr_image=  qr.make_image(fill_color='black',back_color='white')\n",
        "    qr_image.save(f'/content/drive/MyDrive/PREF/{i}_PREF.png')"
      ],
      "metadata": {
        "id": "fbbvkCJqcf4W"
      },
      "execution_count": null,
      "outputs": []
    },
    {
      "cell_type": "code",
      "source": [
        "from PIL import Image\n",
        "\n",
        "fondo = Image.open('/content/drive/MyDrive/1676418709758.jpg')\n",
        "\n",
        "for i in range(1,405):\n",
        "  imagen = Image.open(f'/content/drive/MyDrive/PREF/{i}_PREF.png')\n",
        "\n",
        "  imagen = imagen.resize((650,650))\n",
        "  posicion = (200,980)\n",
        "  fondo.paste(imagen,posicion)\n",
        "  fondo.save(f'/content/drive/MyDrive/PREF/INV_PREF/Inv{i}_pref.jpg')"
      ],
      "metadata": {
        "id": "cTFvlln3hlgM"
      },
      "execution_count": null,
      "outputs": []
    }
  ]
}